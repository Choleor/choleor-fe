{
 "cells": [
  {
   "cell_type": "code",
   "execution_count": null,
   "metadata": {},
   "outputs": [],
   "source": [
    "    def change_video_to_target_bpm(path, cslice_ids, target_bpm):\n",
    "        vidlink = []\n",
    "        cids = []\n",
    "\n",
    "        for csid in cslice_ids:\n",
    "            cids += [csid.split(\"~\")[0]]\n",
    "            vidlink.append(\n",
    "                '{}/{}.mp4'.format(path, csid))\n",
    "\n",
    "        \n",
    "        for idx in range(len(vidlink)):\n",
    "            # 영상 앞 뒤로 10 frame 삭제\n",
    "            fourcc = cv2.VideoWriter_fourcc(*'XVID')\n",
    "            out = cv2.VideoWriter(f\"{path}/vvid{idx}.mp4\", fourcc, 120, (1920, 1080))\n",
    "\n",
    "            vidcap = cv2.VideoCapture(f'/home/jihee/choleor_media/choreo/SLICE/{cids[idx]}/{cslice_ids[idx]}.mp4')\n",
    "            count = 0\n",
    "            max_count = vidcap.get(cv2.CAP_PROP_FRAME_COUNT)\n",
    "\n",
    "            while vidcap.isOpened():\n",
    "                count += 1\n",
    "                ret, image = vidcap.read()\n",
    "                if ret is False:\n",
    "                    break\n",
    "                if count <= 10 or count >= max_count - 10\n",
    "                    continue\n",
    "                out.write(image)\n",
    "\n",
    "            vidcap.release()\n",
    "            out.release()\n",
    "            \n",
    "            # 24fps로 변환\n",
    "            os.system(\n",
    "                f\"ffmpeg -i '{path}/vvid{idx}.mp4' -r 24 -y '{path}/vid{idx}.mp4'\")\n",
    "            os.remove(f\"{path}/vvid{idx}.mp4\")\n",
    "\n",
    "            # 영상 속도 target bpm맞게 변환\n",
    "            target_fps = target_bpm * 24 / 120\n",
    "            fourcc = cv2.VideoWriter_fourcc(*'XVID')\n",
    "            out = cv2.VideoWriter(f'{vidlink[idx]}', fourcc, target_fps, (1920, 1080))\n",
    "\n",
    "            vidcap = cv2.VideoCapture(f'{path}/vid{idx}.mp4')\n",
    "\n",
    "            while vidcap.isOpened():\n",
    "                ret, image = vidcap.read()\n",
    "                if ret is False:\n",
    "                    break\n",
    "                out.write(image)\n",
    "\n",
    "            os.remove(f\"{path}/vid{idx}.mp4\")\n",
    "            vidcap.release()\n",
    "            out.release()"
   ]
  }
 ],
 "metadata": {
  "kernelspec": {
   "display_name": "Python 3",
   "language": "python",
   "name": "python3"
  },
  "language_info": {
   "codemirror_mode": {
    "name": "ipython",
    "version": 3
   },
   "file_extension": ".py",
   "mimetype": "text/x-python",
   "name": "python",
   "nbconvert_exporter": "python",
   "pygments_lexer": "ipython3",
   "version": "3.7.3"
  }
 },
 "nbformat": 4,
 "nbformat_minor": 4
}
